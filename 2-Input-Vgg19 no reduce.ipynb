{
 "cells": [
  {
   "cell_type": "code",
   "execution_count": 1,
   "id": "5fdedf49",
   "metadata": {},
   "outputs": [],
   "source": [
    "import pandas as pd\n",
    "import numpy as np\n",
    "import tensorflow as tf\n",
    "\n",
    "from imblearn.under_sampling import RandomUnderSampler\n",
    "import random\n",
    "random.seed(42)"
   ]
  },
  {
   "cell_type": "code",
   "execution_count": 2,
   "id": "0ec87a96",
   "metadata": {},
   "outputs": [
    {
     "name": "stdout",
     "output_type": "stream",
     "text": [
      "akakce (2217, 6)\n",
      "amazon (2927, 6)\n",
      "arabam (4027, 6)\n",
      "donanimhaber (773, 6)\n",
      "haberturk (28327, 6)\n",
      "mgm (3936, 6)\n",
      "nefisyemektarifleri (2468, 6)\n",
      "pazarama (1536, 6)\n",
      "trendyol (1357, 6)\n",
      "(45943, 7)\n"
     ]
    },
    {
     "data": {
      "text/html": [
       "<div>\n",
       "<style scoped>\n",
       "    .dataframe tbody tr th:only-of-type {\n",
       "        vertical-align: middle;\n",
       "    }\n",
       "\n",
       "    .dataframe tbody tr th {\n",
       "        vertical-align: top;\n",
       "    }\n",
       "\n",
       "    .dataframe thead th {\n",
       "        text-align: right;\n",
       "    }\n",
       "</style>\n",
       "<table border=\"1\" class=\"dataframe\">\n",
       "  <thead>\n",
       "    <tr style=\"text-align: right;\">\n",
       "      <th></th>\n",
       "      <th>url1</th>\n",
       "      <th>url2</th>\n",
       "      <th>url1_dir</th>\n",
       "      <th>url2_dir</th>\n",
       "      <th>pair</th>\n",
       "      <th>identical</th>\n",
       "      <th>pairC</th>\n",
       "    </tr>\n",
       "  </thead>\n",
       "  <tbody>\n",
       "    <tr>\n",
       "      <th>0</th>\n",
       "      <td>https://www.akakce.com/brosurler/a101</td>\n",
       "      <td>https://www.akakce.com/yorum/?p=131983292#Yoru...</td>\n",
       "      <td>www.akakce.com/78</td>\n",
       "      <td>www.akakce.com/79</td>\n",
       "      <td>aktcom</td>\n",
       "      <td>False</td>\n",
       "      <td>3</td>\n",
       "    </tr>\n",
       "    <tr>\n",
       "      <th>1</th>\n",
       "      <td>https://www.akakce.com/brosurler/a101</td>\n",
       "      <td>https://www.akakce.com/yorum/?p=1958594929</td>\n",
       "      <td>www.akakce.com/78</td>\n",
       "      <td>www.akakce.com/80</td>\n",
       "      <td>aktcom</td>\n",
       "      <td>False</td>\n",
       "      <td>3</td>\n",
       "    </tr>\n",
       "    <tr>\n",
       "      <th>2</th>\n",
       "      <td>https://www.akakce.com/brosurler/a101</td>\n",
       "      <td>https://www.akakce.com/yorum/?p=436908675#Yoru...</td>\n",
       "      <td>www.akakce.com/78</td>\n",
       "      <td>www.akakce.com/81</td>\n",
       "      <td>aktcom</td>\n",
       "      <td>False</td>\n",
       "      <td>3</td>\n",
       "    </tr>\n",
       "    <tr>\n",
       "      <th>3</th>\n",
       "      <td>https://www.akakce.com/brosurler/a101</td>\n",
       "      <td>https://www.akakce.com/</td>\n",
       "      <td>www.akakce.com/78</td>\n",
       "      <td>www.akakce.com/90</td>\n",
       "      <td>akthome</td>\n",
       "      <td>False</td>\n",
       "      <td>2</td>\n",
       "    </tr>\n",
       "    <tr>\n",
       "      <th>4</th>\n",
       "      <td>https://www.akakce.com/brosurler/a101</td>\n",
       "      <td>https://www.akakce.com/#/9876/?z=144&amp;v=2108&amp;s=...</td>\n",
       "      <td>www.akakce.com/78</td>\n",
       "      <td>www.akakce.com/89</td>\n",
       "      <td>akthome</td>\n",
       "      <td>False</td>\n",
       "      <td>2</td>\n",
       "    </tr>\n",
       "  </tbody>\n",
       "</table>\n",
       "</div>"
      ],
      "text/plain": [
       "                                    url1  \\\n",
       "0  https://www.akakce.com/brosurler/a101   \n",
       "1  https://www.akakce.com/brosurler/a101   \n",
       "2  https://www.akakce.com/brosurler/a101   \n",
       "3  https://www.akakce.com/brosurler/a101   \n",
       "4  https://www.akakce.com/brosurler/a101   \n",
       "\n",
       "                                                url2           url1_dir  \\\n",
       "0  https://www.akakce.com/yorum/?p=131983292#Yoru...  www.akakce.com/78   \n",
       "1         https://www.akakce.com/yorum/?p=1958594929  www.akakce.com/78   \n",
       "2  https://www.akakce.com/yorum/?p=436908675#Yoru...  www.akakce.com/78   \n",
       "3                            https://www.akakce.com/  www.akakce.com/78   \n",
       "4  https://www.akakce.com/#/9876/?z=144&v=2108&s=...  www.akakce.com/78   \n",
       "\n",
       "            url2_dir     pair  identical  pairC  \n",
       "0  www.akakce.com/79   aktcom      False      3  \n",
       "1  www.akakce.com/80   aktcom      False      3  \n",
       "2  www.akakce.com/81   aktcom      False      3  \n",
       "3  www.akakce.com/90  akthome      False      2  \n",
       "4  www.akakce.com/89  akthome      False      2  "
      ]
     },
     "execution_count": 2,
     "metadata": {},
     "output_type": "execute_result"
    }
   ],
   "source": [
    "websites=[\"akakce\",\"amazon\",\"arabam\",\"donanimhaber\",\"haberturk\",\"mgm\",\"nefisyemektarifleri\",\"pazarama\",\"trendyol\"]\n",
    "\n",
    "datas=[]\n",
    "for website in websites:\n",
    "    data=pd.read_csv(website+\"_paired.csv\",encoding='latin1')\n",
    "    data = data.groupby(\"pair\").apply(lambda x: x.sample(min(184,len(x)))).reset_index(drop=True)\n",
    "    print(website,data.shape)\n",
    "    datas.append(data)\n",
    "data=pd.concat(datas,ignore_index=True)\n",
    "#drop the rows with pair value count is 1\n",
    "valuecounts=data[\"pair\"].value_counts()\n",
    "data[\"pairC\"] = data[\"pair\"].map(lambda x: valuecounts[x])\n",
    "data = data[data[\"pairC\"] > 1].reset_index(drop=True)\n",
    "print(data.shape)\n",
    "data.head()"
   ]
  },
  {
   "cell_type": "code",
   "execution_count": 11,
   "id": "9764fe5d",
   "metadata": {},
   "outputs": [
    {
     "name": "stdout",
     "output_type": "stream",
     "text": [
      "Model: \"model_5\"\n",
      "__________________________________________________________________________________________________\n",
      " Layer (type)                   Output Shape         Param #     Connected to                     \n",
      "==================================================================================================\n",
      " input_1 (InputLayer)           [(None, 256, 256, 3  0           []                               \n",
      "                                )]                                                                \n",
      "                                                                                                  \n",
      " input_2 (InputLayer)           [(None, 256, 256, 3  0           []                               \n",
      "                                )]                                                                \n",
      "                                                                                                  \n",
      " vgg19 (Functional)             (None, 8, 8, 512)    20024384    ['input_1[0][0]',                \n",
      "                                                                  'input_2[0][0]']                \n",
      "                                                                                                  \n",
      " flatten_9 (Flatten)            (None, 32768)        0           ['vgg19[0][0]']                  \n",
      "                                                                                                  \n",
      " flatten_10 (Flatten)           (None, 32768)        0           ['vgg19[1][0]']                  \n",
      "                                                                                                  \n",
      " tf.math.subtract_3 (TFOpLambda  (None, 32768)       0           ['flatten_9[0][0]',              \n",
      " )                                                                'flatten_10[0][0]']             \n",
      "                                                                                                  \n",
      " dense_10 (Dense)               (None, 1024)         33555456    ['tf.math.subtract_3[0][0]']     \n",
      "                                                                                                  \n",
      " dense_11 (Dense)               (None, 1)            1025        ['dense_10[0][0]']               \n",
      "                                                                                                  \n",
      "==================================================================================================\n",
      "Total params: 53,580,865\n",
      "Trainable params: 35,882,049\n",
      "Non-trainable params: 17,698,816\n",
      "__________________________________________________________________________________________________\n"
     ]
    }
   ],
   "source": [
    "import tensorflow as tf\n",
    "from tensorflow.keras.applications import VGG19\n",
    "from tensorflow.keras.layers import Input, GlobalAveragePooling2D, Dense, Concatenate, Flatten\n",
    "from tensorflow.keras.models import Model\n",
    "\n",
    "input_shape = (256, 256, 3)\n",
    "input_1 = Input(shape=input_shape, name='input_1')\n",
    "input_2 = Input(shape=input_shape, name='input_2')\n",
    "\n",
    "base_model = VGG19(include_top=False, weights='imagenet', input_shape=input_shape)\n",
    "for l in base_model.layers[-10:]:\n",
    "    l.trainable = False\n",
    "\n",
    "\n",
    "features_1 = Flatten()(base_model(input_1))\n",
    "features_2 = Flatten()(base_model(input_2))\n",
    "\n",
    "\n",
    "combined = features_1- features_2\n",
    "\n",
    "x = Dense(1024, activation='relu')(combined)\n",
    "output = Dense(1, activation='sigmoid')(x)\n",
    "\n",
    "model = Model(inputs=[input_1, input_2], outputs=output)\n",
    "model.compile(optimizer=tf.keras.optimizers.Adam(learning_rate=5e-1,decay=1e-4), loss='binary_crossentropy', metrics=[\"accuracy\",tf.keras.metrics.AUC(),tf.keras.metrics.SensitivityAtSpecificity(1)])\n",
    "\n",
    "model.summary()"
   ]
  },
  {
   "cell_type": "code",
   "execution_count": 12,
   "id": "dbfccca6",
   "metadata": {},
   "outputs": [
    {
     "name": "stdout",
     "output_type": "stream",
     "text": [
      "Epoch 1/50\n",
      "919/919 [==============================] - 1168s 1s/step - loss: 4330824294327123968.0000 - accuracy: 0.8955 - auc_5: 0.4987 - sensitivity_at_specificity_5: 0.0000e+00 - val_loss: 9210704.0000 - val_accuracy: 0.9080 - val_auc_5: 0.4985 - val_sensitivity_at_specificity_5: 0.0000e+00\n",
      "Epoch 2/50\n",
      "919/919 [==============================] - 1077s 1s/step - loss: 0.3079 - accuracy: 0.9102 - auc_5: 0.5005 - sensitivity_at_specificity_5: 0.0000e+00 - val_loss: 0.3108 - val_accuracy: 0.9080 - val_auc_5: 0.5000 - val_sensitivity_at_specificity_5: 0.0000e+00\n",
      "Epoch 3/50\n",
      "919/919 [==============================] - 1090s 1s/step - loss: 0.3099 - accuracy: 0.9102 - auc_5: 0.4978 - sensitivity_at_specificity_5: 0.0000e+00 - val_loss: 0.3157 - val_accuracy: 0.9080 - val_auc_5: 0.5000 - val_sensitivity_at_specificity_5: 0.0000e+00\n",
      "Epoch 4/50\n",
      "919/919 [==============================] - 1077s 1s/step - loss: 0.3110 - accuracy: 0.9102 - auc_5: 0.4966 - sensitivity_at_specificity_5: 0.0000e+00 - val_loss: 0.3176 - val_accuracy: 0.9080 - val_auc_5: 0.5000 - val_sensitivity_at_specificity_5: 0.0000e+00\n",
      "Epoch 5/50\n",
      "919/919 [==============================] - 1063s 1s/step - loss: 0.3112 - accuracy: 0.9102 - auc_5: 0.4972 - sensitivity_at_specificity_5: 0.0000e+00 - val_loss: 0.3169 - val_accuracy: 0.9080 - val_auc_5: 0.5000 - val_sensitivity_at_specificity_5: 0.0000e+00\n",
      "Epoch 6/50\n",
      "919/919 [==============================] - 1064s 1s/step - loss: 0.3108 - accuracy: 0.9102 - auc_5: 0.4972 - sensitivity_at_specificity_5: 0.0000e+00 - val_loss: 0.3152 - val_accuracy: 0.9080 - val_auc_5: 0.5000 - val_sensitivity_at_specificity_5: 0.0000e+00\n",
      "Epoch 7/50\n",
      "919/919 [==============================] - 1066s 1s/step - loss: 0.3104 - accuracy: 0.9102 - auc_5: 0.4982 - sensitivity_at_specificity_5: 0.0000e+00 - val_loss: 0.3134 - val_accuracy: 0.9080 - val_auc_5: 0.5000 - val_sensitivity_at_specificity_5: 0.0000e+00\n"
     ]
    }
   ],
   "source": [
    "def load_and_preprocess_image(path, img_size=(256, 256)):\n",
    "    image = tf.io.read_file(path)\n",
    "    image = tf.image.decode_png(image, channels=3)  \n",
    "    image = tf.image.resize(image, img_size)\n",
    "    image = tf.keras.applications.vgg19.preprocess_input(image)  # normalize for ResNet\n",
    "    return image\n",
    "\n",
    "def make_dataset(image_paths_1, image_paths_2, labels, batch_size=32, shuffle=True):\n",
    "    path_ds_1 = tf.data.Dataset.from_tensor_slices(image_paths_1)\n",
    "    path_ds_2 = tf.data.Dataset.from_tensor_slices(image_paths_2)\n",
    "    label_ds = tf.data.Dataset.from_tensor_slices(labels)\n",
    "\n",
    "    def process_pair(path1, path2, label):\n",
    "        img1 = load_and_preprocess_image(\"data/\"+path1+\"/ss.png\")\n",
    "        img2 = load_and_preprocess_image(\"data/\"+path2+\"/ss.png\")\n",
    "        return {'input_1': img1, 'input_2': img2}, label\n",
    "\n",
    "    dataset = tf.data.Dataset.zip((path_ds_1, path_ds_2, label_ds))\n",
    "    dataset = dataset.map(process_pair, num_parallel_calls=tf.data.AUTOTUNE)\n",
    "\n",
    "    if shuffle:\n",
    "        dataset = dataset.shuffle(buffer_size=len(labels))\n",
    "\n",
    "    dataset = dataset.batch(batch_size).prefetch(tf.data.AUTOTUNE)\n",
    "    return dataset\n",
    "\n",
    "from sklearn.model_selection import train_test_split\n",
    "train, test = train_test_split(\n",
    "    data,stratify=data[\"pair\"],\n",
    "    test_size=0.2,\n",
    "    random_state=42,\n",
    "    shuffle=True,\n",
    ")\n",
    "train, val = train_test_split(\n",
    "    train, stratify=train[\"pair\"],\n",
    "    test_size=0.2,\n",
    "    random_state=42,\n",
    "    shuffle=True,\n",
    ")\n",
    "train_dataset = make_dataset(train[\"url1_dir\"].to_numpy(), train[\"url2_dir\"].to_numpy(), train[\"identical\"].to_numpy(), batch_size=32, shuffle=False)\n",
    "val_dataset = make_dataset(val[\"url1_dir\"].to_numpy(), val[\"url2_dir\"].to_numpy(), val[\"identical\"].to_numpy(), batch_size=32, shuffle=False)\n",
    "test_dataset = make_dataset(test[\"url1_dir\"].to_numpy(), test[\"url2_dir\"].to_numpy(), test[\"identical\"].to_numpy(), batch_size=32, shuffle=False)\n",
    "# Train the model\n",
    "early_stopping = tf.keras.callbacks.EarlyStopping(monitor='val_loss', patience=5, restore_best_weights=True)\n",
    "model_checkpoint = tf.keras.callbacks.ModelCheckpoint(\"vgg19.h5\", save_best_only=True, monitor='val_loss', mode='min')\n",
    "\n",
    "history = model.fit(\n",
    "    train_dataset,\n",
    "    validation_data=val_dataset,\n",
    "    epochs=50,\n",
    "    callbacks=[early_stopping, model_checkpoint],\n",
    "    verbose=1\n",
    ")"
   ]
  },
  {
   "cell_type": "code",
   "execution_count": null,
   "id": "c5897f96",
   "metadata": {},
   "outputs": [
    {
     "name": "stderr",
     "output_type": "stream",
     "text": [
      "No artists with labels found to put in legend.  Note that artists whose label start with an underscore are ignored when legend() is called with no argument.\n"
     ]
    },
    {
     "data": {
      "image/png": "[encoded data removed]",
      "text/plain": [
       "<Figure size 600x400 with 1 Axes>"
      ]
     },
     "metadata": {},
     "output_type": "display_data"
    }
   ],
   "source": [
    "from matplotlib import pyplot as plt\n",
    "\n",
    "plt.figure(figsize=(6, 4))\n",
    "plt.plot(history.history['loss'], label='train_loss')\n",
    "plt.plot(history.history['val_loss'], label='val_loss')\n",
    "plt.legend(loc='upper right')\n",
    "plt.title('Model loss')\n",
    "plt.show()"
   ]
  },
  {
   "cell_type": "code",
   "execution_count": null,
   "id": "665910a3",
   "metadata": {},
   "outputs": [
    {
     "name": "stdout",
     "output_type": "stream",
     "text": [
      "21/21 [==============================] - 3s 156ms/step - loss: 0.2906 - accuracy: 0.9398\n"
     ]
    }
   ],
   "source": [
    "model.evaluate(test_dataset, verbose=1)\n",
    "model.save(\"models/vgg19.h5\")"
   ]
  }
 ],
 "metadata": {
  "kernelspec": {
   "display_name": "tf",
   "language": "python",
   "name": "python3"
  },
  "language_info": {
   "codemirror_mode": {
    "name": "ipython",
    "version": 3
   },
   "file_extension": ".py",
   "mimetype": "text/x-python",
   "name": "python",
   "nbconvert_exporter": "python",
   "pygments_lexer": "ipython3",
   "version": "3.10.16"
  }
 },
 "nbformat": 4,
 "nbformat_minor": 5
}
