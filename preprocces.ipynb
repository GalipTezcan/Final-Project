{
 "cells": [
  {
   "cell_type": "code",
   "execution_count": 2,
   "metadata": {},
   "outputs": [
    {
     "name": "stdout",
     "output_type": "stream",
     "text": [
      "akakce is being processed\n",
      "amazon is being processed\n",
      "arabam is being processed\n",
      "donanimhaber is being processed\n",
      "haberturk is being processed\n",
      "mgm is being processed\n",
      "nefisyemektarifleri is being processed\n",
      "pazarama is being processed\n",
      "towardsdatascience is being processed\n",
      "trendyol is being processed\n"
     ]
    }
   ],
   "source": [
    "import pandas as pd\n",
    "import itertools\n",
    "BASE_DIR=\"data/\"\n",
    "def create_pairs(data,data_dir,website):\n",
    "    urls=data[\"url\"].values\n",
    "    data_paired=pd.DataFrame(list(itertools.combinations(urls, 2)),columns=[\"url1\",\"url2\"])\n",
    "    data_paired[\"url1_dir\"]=data_paired.apply(lambda x: \"www.\"+website+\".com/\"+str(data_dir[data_dir[\"url\"]==x[\"url1\"]][\"dir\"].values[0]),axis=1)\n",
    "    data_paired[\"url2_dir\"]=data_paired.apply(lambda x: \"www.\"+website+\".com/\"+str(data_dir[data_dir[\"url\"]==x[\"url2\"]][\"dir\"].values[0]),axis=1)\n",
    "    data_paired[\"pair\"]=data_paired.apply(\n",
    "        lambda x: data[data[\"url\"]==x[\"url1\"]][\"cluster\"].values[0]+data[data[\"url\"]==x[\"url2\"]][\"cluster\"].values[0],axis=1)\n",
    "    data_paired[\"identical\"]=data_paired.apply(\n",
    "        lambda x: data[data[\"url\"]==x[\"url1\"]][\"cluster\"].values[0]==data[data[\"url\"]==x[\"url2\"]][\"cluster\"].values[0],axis=1)\n",
    "    return data_paired\n",
    "\n",
    "\n",
    "websites=[\"akakce\",\"amazon\",\"arabam\",\"donanimhaber\",\"haberturk\",\"mgm\",\"nefisyemektarifleri\",\"pazarama\",\"towardsdatascience\",\"trendyol\"]\n",
    "for website in websites:\n",
    "    print(website,\"is being processed\")\n",
    "    data=create_pairs(pd.read_csv(BASE_DIR+website+\".csv\",encoding = \"ISO-8859-1\"),pd.read_csv(BASE_DIR+website+\"_dirs.csv\",encoding = \"ISO-8859-1\"),website)\n",
    "    data.to_csv(website+\"_paired.csv\",index=False)"
   ]
  },
  {
   "cell_type": "code",
   "execution_count": 8,
   "metadata": {},
   "outputs": [
    {
     "data": {
      "text/html": [
       "<div>\n",
       "<style scoped>\n",
       "    .dataframe tbody tr th:only-of-type {\n",
       "        vertical-align: middle;\n",
       "    }\n",
       "\n",
       "    .dataframe tbody tr th {\n",
       "        vertical-align: top;\n",
       "    }\n",
       "\n",
       "    .dataframe thead th {\n",
       "        text-align: right;\n",
       "    }\n",
       "</style>\n",
       "<table border=\"1\" class=\"dataframe\">\n",
       "  <thead>\n",
       "    <tr style=\"text-align: right;\">\n",
       "      <th></th>\n",
       "      <th>url</th>\n",
       "      <th>cluster</th>\n",
       "    </tr>\n",
       "  </thead>\n",
       "  <tbody>\n",
       "    <tr>\n",
       "      <th>0</th>\n",
       "      <td>https://www.mgm.gov.tr/genel/kutuphane.aspx</td>\n",
       "      <td>kut</td>\n",
       "    </tr>\n",
       "    <tr>\n",
       "      <th>1</th>\n",
       "      <td>https://www.mgm.gov.tr/iklim/ozondegerlendirme...</td>\n",
       "      <td>aras</td>\n",
       "    </tr>\n",
       "    <tr>\n",
       "      <th>2</th>\n",
       "      <td>https://www.mgm.gov.tr/iklim/iklim-raporlari.aspx</td>\n",
       "      <td>aras</td>\n",
       "    </tr>\n",
       "    <tr>\n",
       "      <th>3</th>\n",
       "      <td>https://www.mgm.gov.tr/tarim/bitki-soguga-ve-s...</td>\n",
       "      <td>bitki</td>\n",
       "    </tr>\n",
       "    <tr>\n",
       "      <th>4</th>\n",
       "      <td>https://www.mgm.gov.tr/veridegerlendirme/il-ve...</td>\n",
       "      <td>anl</td>\n",
       "    </tr>\n",
       "  </tbody>\n",
       "</table>\n",
       "</div>"
      ],
      "text/plain": [
       "                                                 url cluster\n",
       "0        https://www.mgm.gov.tr/genel/kutuphane.aspx     kut\n",
       "1  https://www.mgm.gov.tr/iklim/ozondegerlendirme...    aras\n",
       "2  https://www.mgm.gov.tr/iklim/iklim-raporlari.aspx    aras\n",
       "3  https://www.mgm.gov.tr/tarim/bitki-soguga-ve-s...   bitki\n",
       "4  https://www.mgm.gov.tr/veridegerlendirme/il-ve...     anl"
      ]
     },
     "execution_count": 8,
     "metadata": {},
     "output_type": "execute_result"
    }
   ],
   "source": [
    "data=pd.read_csv(BASE_DIR+\"mgm\"+\".csv\",encoding = \"ISO-8859-1\")\n",
    "data.head()"
   ]
  }
 ],
 "metadata": {
  "kernelspec": {
   "display_name": "Python 3",
   "language": "python",
   "name": "python3"
  },
  "language_info": {
   "codemirror_mode": {
    "name": "ipython",
    "version": 3
   },
   "file_extension": ".py",
   "mimetype": "text/x-python",
   "name": "python",
   "nbconvert_exporter": "python",
   "pygments_lexer": "ipython3",
   "version": "3.10.11"
  }
 },
 "nbformat": 4,
 "nbformat_minor": 2
}
